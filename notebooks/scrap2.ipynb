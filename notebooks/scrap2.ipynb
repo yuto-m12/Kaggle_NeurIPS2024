{
 "cells": [
  {
   "cell_type": "code",
   "execution_count": 2,
   "metadata": {},
   "outputs": [
    {
     "name": "stdout",
     "output_type": "stream",
     "text": [
      "tensor([[[ 0.0046,  0.0108, -0.0157,  ..., -0.0179, -0.0226,  0.0497],\n",
      "         [ 0.0063,  0.0288, -0.0023,  ...,  0.0114,  0.0188,  0.0328],\n",
      "         [ 0.0366, -0.0113, -0.1003,  ...,  0.0279, -0.0380,  0.0105],\n",
      "         ...,\n",
      "         [-0.0461,  0.0007,  0.0366,  ...,  0.0532, -0.0284, -0.0347],\n",
      "         [-0.0073,  0.0311, -0.0177,  ...,  0.0332,  0.0037,  0.0007],\n",
      "         [-0.0008, -0.0456,  0.0199,  ..., -0.0099, -0.0158, -0.0012]],\n",
      "\n",
      "        [[ 0.0254,  0.0037, -0.0638,  ...,  0.0042,  0.0123, -0.0212],\n",
      "         [-0.0255, -0.0134, -0.0106,  ..., -0.0006, -0.0259, -0.0111],\n",
      "         [-0.0008,  0.0295,  0.0479,  ..., -0.0059,  0.0114, -0.0043],\n",
      "         ...,\n",
      "         [ 0.0026, -0.0040, -0.0070,  ..., -0.0498, -0.0085,  0.0358],\n",
      "         [ 0.0534, -0.0341, -0.0274,  ..., -0.0974, -0.0472,  0.0185],\n",
      "         [-0.0236, -0.0280,  0.0078,  ...,  0.0251,  0.0085, -0.0092]]],\n",
      "       device='cuda:0', grad_fn=<UnsafeViewBackward0>)\n"
     ]
    }
   ],
   "source": [
    "import torch\n",
    "from mamba_ssm import Mamba\n",
    "\n",
    "batch, length, dim = 2, 64, 16\n",
    "x = torch.randn(batch, length, dim).to(\"cuda\")\n",
    "model = Mamba(\n",
    "    # This module uses roughly 3 * expand * d_model^2 parameters\n",
    "    d_model=dim, # Model dimension d_model\n",
    "    d_state=16,  # SSM state expansion factor\n",
    "    d_conv=4,    # Local convolution width\n",
    "    expand=2,    # Block expansion factor\n",
    ").to(\"cuda\")\n",
    "y = model(x)\n",
    "assert y.shape == x.shape\n",
    "print(y)"
   ]
  },
  {
   "cell_type": "code",
   "execution_count": null,
   "metadata": {},
   "outputs": [],
   "source": [
    "# tensor([[[ 0.0046,  0.0108, -0.0157,  ..., -0.0179, -0.0226,  0.0497],\n",
    "#          [ 0.0063,  0.0288, -0.0023,  ...,  0.0114,  0.0188,  0.0328],\n",
    "#          [ 0.0366, -0.0113, -0.1003,  ...,  0.0279, -0.0380,  0.0105],\n",
    "#          ...,\n",
    "#          [-0.0461,  0.0007,  0.0366,  ...,  0.0532, -0.0284, -0.0347],\n",
    "#          [-0.0073,  0.0311, -0.0177,  ...,  0.0332,  0.0037,  0.0007],\n",
    "#          [-0.0008, -0.0456,  0.0199,  ..., -0.0099, -0.0158, -0.0012]],\n",
    "\n",
    "#         [[ 0.0254,  0.0037, -0.0638,  ...,  0.0042,  0.0123, -0.0212],\n",
    "#          [-0.0255, -0.0134, -0.0106,  ..., -0.0006, -0.0259, -0.0111],\n",
    "#          [-0.0008,  0.0295,  0.0479,  ..., -0.0059,  0.0114, -0.0043],\n",
    "#          ...,\n",
    "#          [ 0.0026, -0.0040, -0.0070,  ..., -0.0498, -0.0085,  0.0358],\n",
    "#          [ 0.0534, -0.0341, -0.0274,  ..., -0.0974, -0.0472,  0.0185],\n",
    "#          [-0.0236, -0.0280,  0.0078,  ...,  0.0251,  0.0085, -0.0092]]],\n",
    "#        device='cuda:0', grad_fn=<UnsafeViewBackward0>)"
   ]
  },
  {
   "cell_type": "code",
   "execution_count": 3,
   "metadata": {},
   "outputs": [
    {
     "name": "stderr",
     "output_type": "stream",
     "text": [
      "INFO:albumentations.check_version:A new version of Albumentations is available: 1.4.11 (you have 1.4.10). Upgrade using: pip install --upgrade albumentations\n"
     ]
    }
   ],
   "source": [
    "import sys\n",
    "import os\n",
    "import gc\n",
    "import copy\n",
    "import yaml\n",
    "import pickle\n",
    "import random\n",
    "import joblib \n",
    "import shutil\n",
    "from time import time\n",
    "import typing as tp\n",
    "from pathlib import Path\n",
    "import psutil\n",
    "\n",
    "import numpy as np\n",
    "import pandas as pd\n",
    "import scipy\n",
    "\n",
    "from tqdm.notebook import tqdm\n",
    "from sklearn.model_selection import StratifiedGroupKFold, StratifiedKFold\n",
    "from sklearn.metrics import average_precision_score as APS\n",
    "import duckdb\n",
    "\n",
    "\n",
    "import torch\n",
    "import torchvision\n",
    "from torch import nn\n",
    "from torch import optim\n",
    "from torch.optim import lr_scheduler\n",
    "from torch.cuda import amp\n",
    "from torch.nn import BCELoss\n",
    "from torch.utils.data import Dataset\n",
    "\n",
    "\n",
    "import timm\n",
    "from mamba_ssm import Mamba\n",
    "from transformers import AutoModel, AutoTokenizer\n",
    "\n",
    "import albumentations as A\n",
    "from albumentations.pytorch import ToTensorV2\n",
    "\n",
    "\n",
    "# use one device only\n",
    "os.environ[\"CUDA_VISIBLE_DEVICES\"] = \"0\"\n",
    "con = duckdb.connect()\n",
    "\n",
    "pd.set_option('display.max_columns', None)\n",
    "pd.set_option('display.max_rows', None)"
   ]
  },
  {
   "cell_type": "code",
   "execution_count": 4,
   "metadata": {},
   "outputs": [],
   "source": [
    "\n",
    "\n",
    "class CFG:\n",
    "    TEST_No = 1\n",
    "    TEST_NUM = int(1674896/32 * TEST_No)\n",
    "    TEST_OFFSET = int(TEST_NUM * (TEST_No-1))\n",
    "    TRAIN_CLM_PATH = Path('/root/Kaggle_NeurIPS2024/data/processed/20000_50per_CLM.parquet')\n",
    "    TEST_CLM_PATH = Path(f'/root/Kaggle_NeurIPS2024/data/processed/test_CLM_{TEST_OFFSET}_to_{TEST_NUM}.parquet')\n",
    "    TRAIN_ENC_PATH = Path('/root/Kaggle_NeurIPS2024/data/external/train_enc.parquet')\n",
    "    TEST_ENC_PATH = Path('/root/Kaggle_NeurIPS2024/data/external/test_enc.parquet')\n",
    "    TRAIN_PATH = Path('/root/Kaggle_NeurIPS2024/data/raw/train.parquet')\n",
    "    TEST_PATH = Path('/root/Kaggle_NeurIPS2024/data/raw/test.parquet')"
   ]
  },
  {
   "cell_type": "code",
   "execution_count": 11,
   "metadata": {},
   "outputs": [
    {
     "data": {
      "text/html": [
       "<div>\n",
       "<style scoped>\n",
       "    .dataframe tbody tr th:only-of-type {\n",
       "        vertical-align: middle;\n",
       "    }\n",
       "\n",
       "    .dataframe tbody tr th {\n",
       "        vertical-align: top;\n",
       "    }\n",
       "\n",
       "    .dataframe thead th {\n",
       "        text-align: right;\n",
       "    }\n",
       "</style>\n",
       "<table border=\"1\" class=\"dataframe\">\n",
       "  <thead>\n",
       "    <tr style=\"text-align: right;\">\n",
       "      <th></th>\n",
       "      <th>id</th>\n",
       "      <th>buildingblock1_smiles</th>\n",
       "      <th>buildingblock2_smiles</th>\n",
       "      <th>buildingblock3_smiles</th>\n",
       "      <th>molecule_smiles</th>\n",
       "      <th>protein_name</th>\n",
       "    </tr>\n",
       "  </thead>\n",
       "  <tbody>\n",
       "    <tr>\n",
       "      <th>0</th>\n",
       "      <td>295246830</td>\n",
       "      <td>C#CCCC[C@H](NC(=O)OCC1c2ccccc2-c2ccccc21)C(=O)O</td>\n",
       "      <td>C=Cc1ccc(N)cc1</td>\n",
       "      <td>C=Cc1ccc(N)cc1</td>\n",
       "      <td>C#CCCC[C@H](Nc1nc(Nc2ccc(C=C)cc2)nc(Nc2ccc(C=C...</td>\n",
       "      <td>BRD4</td>\n",
       "    </tr>\n",
       "    <tr>\n",
       "      <th>1</th>\n",
       "      <td>295246831</td>\n",
       "      <td>C#CCCC[C@H](NC(=O)OCC1c2ccccc2-c2ccccc21)C(=O)O</td>\n",
       "      <td>C=Cc1ccc(N)cc1</td>\n",
       "      <td>C=Cc1ccc(N)cc1</td>\n",
       "      <td>C#CCCC[C@H](Nc1nc(Nc2ccc(C=C)cc2)nc(Nc2ccc(C=C...</td>\n",
       "      <td>HSA</td>\n",
       "    </tr>\n",
       "    <tr>\n",
       "      <th>2</th>\n",
       "      <td>295246832</td>\n",
       "      <td>C#CCCC[C@H](NC(=O)OCC1c2ccccc2-c2ccccc21)C(=O)O</td>\n",
       "      <td>C=Cc1ccc(N)cc1</td>\n",
       "      <td>C=Cc1ccc(N)cc1</td>\n",
       "      <td>C#CCCC[C@H](Nc1nc(Nc2ccc(C=C)cc2)nc(Nc2ccc(C=C...</td>\n",
       "      <td>sEH</td>\n",
       "    </tr>\n",
       "    <tr>\n",
       "      <th>3</th>\n",
       "      <td>295246833</td>\n",
       "      <td>C#CCCC[C@H](NC(=O)OCC1c2ccccc2-c2ccccc21)C(=O)O</td>\n",
       "      <td>C=Cc1ccc(N)cc1</td>\n",
       "      <td>CC(O)Cn1cnc2c(N)ncnc21</td>\n",
       "      <td>C#CCCC[C@H](Nc1nc(Nc2ccc(C=C)cc2)nc(Nc2ncnc3c2...</td>\n",
       "      <td>BRD4</td>\n",
       "    </tr>\n",
       "    <tr>\n",
       "      <th>4</th>\n",
       "      <td>295246834</td>\n",
       "      <td>C#CCCC[C@H](NC(=O)OCC1c2ccccc2-c2ccccc21)C(=O)O</td>\n",
       "      <td>C=Cc1ccc(N)cc1</td>\n",
       "      <td>CC(O)Cn1cnc2c(N)ncnc21</td>\n",
       "      <td>C#CCCC[C@H](Nc1nc(Nc2ccc(C=C)cc2)nc(Nc2ncnc3c2...</td>\n",
       "      <td>HSA</td>\n",
       "    </tr>\n",
       "  </tbody>\n",
       "</table>\n",
       "</div>"
      ],
      "text/plain": [
       "          id                            buildingblock1_smiles  \\\n",
       "0  295246830  C#CCCC[C@H](NC(=O)OCC1c2ccccc2-c2ccccc21)C(=O)O   \n",
       "1  295246831  C#CCCC[C@H](NC(=O)OCC1c2ccccc2-c2ccccc21)C(=O)O   \n",
       "2  295246832  C#CCCC[C@H](NC(=O)OCC1c2ccccc2-c2ccccc21)C(=O)O   \n",
       "3  295246833  C#CCCC[C@H](NC(=O)OCC1c2ccccc2-c2ccccc21)C(=O)O   \n",
       "4  295246834  C#CCCC[C@H](NC(=O)OCC1c2ccccc2-c2ccccc21)C(=O)O   \n",
       "\n",
       "  buildingblock2_smiles   buildingblock3_smiles  \\\n",
       "0        C=Cc1ccc(N)cc1          C=Cc1ccc(N)cc1   \n",
       "1        C=Cc1ccc(N)cc1          C=Cc1ccc(N)cc1   \n",
       "2        C=Cc1ccc(N)cc1          C=Cc1ccc(N)cc1   \n",
       "3        C=Cc1ccc(N)cc1  CC(O)Cn1cnc2c(N)ncnc21   \n",
       "4        C=Cc1ccc(N)cc1  CC(O)Cn1cnc2c(N)ncnc21   \n",
       "\n",
       "                                     molecule_smiles protein_name  \n",
       "0  C#CCCC[C@H](Nc1nc(Nc2ccc(C=C)cc2)nc(Nc2ccc(C=C...         BRD4  \n",
       "1  C#CCCC[C@H](Nc1nc(Nc2ccc(C=C)cc2)nc(Nc2ccc(C=C...          HSA  \n",
       "2  C#CCCC[C@H](Nc1nc(Nc2ccc(C=C)cc2)nc(Nc2ccc(C=C...          sEH  \n",
       "3  C#CCCC[C@H](Nc1nc(Nc2ccc(C=C)cc2)nc(Nc2ncnc3c2...         BRD4  \n",
       "4  C#CCCC[C@H](Nc1nc(Nc2ccc(C=C)cc2)nc(Nc2ncnc3c2...          HSA  "
      ]
     },
     "execution_count": 11,
     "metadata": {},
     "output_type": "execute_result"
    }
   ],
   "source": [
    "test = con.query(f\"\"\"(SELECT *\n",
    "                        FROM parquet_scan('{CFG.TEST_PATH}')\n",
    "                        )\"\"\").df()\n",
    "test.head()"
   ]
  },
  {
   "cell_type": "code",
   "execution_count": 6,
   "metadata": {},
   "outputs": [
    {
     "data": {
      "text/plain": [
       "count                                               10000\n",
       "unique                                                  3\n",
       "top       C#CC[C@@H](CC(=O)O)NC(=O)OCC1c2ccccc2-c2ccccc21\n",
       "freq                                                 4227\n",
       "Name: buildingblock1_smiles, dtype: object"
      ]
     },
     "execution_count": 6,
     "metadata": {},
     "output_type": "execute_result"
    }
   ],
   "source": [
    "test[\"buildingblock1_smiles\"].describe()\n"
   ]
  },
  {
   "cell_type": "code",
   "execution_count": 12,
   "metadata": {},
   "outputs": [
    {
     "data": {
      "text/plain": [
       "count    1.674896e+06\n",
       "mean     5.110863e+01\n",
       "std      6.031255e+00\n",
       "min      3.500000e+01\n",
       "25%      4.600000e+01\n",
       "50%      5.000000e+01\n",
       "75%      5.600000e+01\n",
       "max      6.900000e+01\n",
       "Name: length1, dtype: float64"
      ]
     },
     "metadata": {},
     "output_type": "display_data"
    },
    {
     "data": {
      "text/plain": [
       "count    1.674896e+06\n",
       "mean     2.158281e+01\n",
       "std      7.422572e+00\n",
       "min      7.000000e+00\n",
       "25%      1.600000e+01\n",
       "50%      2.000000e+01\n",
       "75%      2.600000e+01\n",
       "max      5.400000e+01\n",
       "Name: length2, dtype: float64"
      ]
     },
     "metadata": {},
     "output_type": "display_data"
    },
    {
     "data": {
      "text/plain": [
       "count    1.674896e+06\n",
       "mean     2.003411e+01\n",
       "std      5.990853e+00\n",
       "min      7.000000e+00\n",
       "25%      1.500000e+01\n",
       "50%      2.000000e+01\n",
       "75%      2.400000e+01\n",
       "max      4.300000e+01\n",
       "Name: length3, dtype: float64"
      ]
     },
     "metadata": {},
     "output_type": "display_data"
    }
   ],
   "source": [
    "test['length1'] = test['buildingblock1_smiles'].apply(len)\n",
    "test['length2'] = test['buildingblock2_smiles'].apply(len)\n",
    "test['length3'] = test['buildingblock3_smiles'].apply(len)\n",
    "display(test['length1'].describe())\n",
    "display(test['length2'].describe())\n",
    "display(test['length3'].describe())"
   ]
  }
 ],
 "metadata": {
  "kernelspec": {
   "display_name": "Python 3",
   "language": "python",
   "name": "python3"
  },
  "language_info": {
   "codemirror_mode": {
    "name": "ipython",
    "version": 3
   },
   "file_extension": ".py",
   "mimetype": "text/x-python",
   "name": "python",
   "nbconvert_exporter": "python",
   "pygments_lexer": "ipython3",
   "version": "3.10.12"
  }
 },
 "nbformat": 4,
 "nbformat_minor": 2
}
